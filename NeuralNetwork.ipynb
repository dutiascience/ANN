{
  "nbformat": 4,
  "nbformat_minor": 0,
  "metadata": {
    "colab": {
      "provenance": []
    },
    "kernelspec": {
      "name": "python3",
      "display_name": "Python 3"
    },
    "language_info": {
      "name": "python"
    }
  },
  "cells": [
    {
      "cell_type": "code",
      "execution_count": null,
      "metadata": {
        "id": "UTbfkUILKwUu"
      },
      "outputs": [],
      "source": [
        "import numpy as np"
      ]
    },
    {
      "cell_type": "code",
      "source": [
        "#X is the array holding the 3 inputs of the XOR gate\n",
        "X = np.array(([0,0,0],[0,0,1],[0,1,0],\\\n",
        "              [0,1,1],[1,0,0],[1,0,1],[1,1,0],[1,1,1]), dtype=float)\n",
        "\n",
        "#y is the output of our neural network\n",
        "y = np.array(([1], [0], [0], [0], [0], \\\n",
        "              [0], [0], [1]), dtype=float)"
      ],
      "metadata": {
        "id": "OQVG7CcTK4zu"
      },
      "execution_count": null,
      "outputs": []
    },
    {
      "cell_type": "markdown",
      "source": [
        "Choosing value to predict"
      ],
      "metadata": {
        "id": "BZocFBMFNMDc"
      }
    },
    {
      "cell_type": "code",
      "source": [
        "#Value to predict\n",
        "xPredicted = np.array(([0,0,1]), dtype=float)\n",
        "X = X/np.amax(X, axis=0) #maximum of X input array\n",
        "#maximum of xPredicted (our input data for the prediction)\n",
        "xPredicted = xPredicted/np.amax(xPredicted, axis=0)"
      ],
      "metadata": {
        "id": "TWiQs60QNP3d"
      },
      "execution_count": null,
      "outputs": []
    },
    {
      "cell_type": "markdown",
      "source": [
        "Set up loss file to save the squared loss results"
      ],
      "metadata": {
        "id": "mZX_YUxNOD2n"
      }
    },
    {
      "cell_type": "code",
      "source": [
        "lossFile = open(\"SumSquaredLossList.csv\" , \"w\")"
      ],
      "metadata": {
        "id": "Ej21PTHGOLyN"
      },
      "execution_count": null,
      "outputs": []
    },
    {
      "cell_type": "markdown",
      "source": [
        "Build neural networks"
      ],
      "metadata": {
        "id": "Be3D9Y3vOnjn"
      }
    },
    {
      "cell_type": "code",
      "source": [
        "class Neural_Network(object):\n",
        "  def __init__(self):\n",
        "    self.inputLayerSize = 3\n",
        "    self.outputLayerSize = 1\n",
        "    self.hiddenLayerSize = 4\n",
        "\n",
        "#Set weights to random values\n",
        "    #3x4 matrix from input to hidden\n",
        "    self.W1 = np.random.randn(self.inputLayerSize, self.hiddenLayerSize)\n",
        "\n",
        "    #4x1 matrix from hidden layer to output\n",
        "    self.W2 = np.random.randn(self.hiddenLayerSize, self.outputLayerSize)"
      ],
      "metadata": {
        "id": "OAQaqovbOm2f"
      },
      "execution_count": null,
      "outputs": []
    },
    {
      "cell_type": "markdown",
      "source": [
        "Feed forward path"
      ],
      "metadata": {
        "id": "ymBKnrWxQWnl"
      }
    },
    {
      "cell_type": "code",
      "source": [
        "def feedForward(self, X):\n",
        "    #dot product of input and first set of 3x4 weights\n",
        "    self.z = np.dot(X, self.W1)\n",
        "\n",
        "    #The sigmoid activation function\n",
        "    self.z2 = self.activationSigmoid(self.z)\n",
        "\n",
        "    #dot product of hidden layer (z2) and second set of 4x1 weights\n",
        "    self.z3 = np.dot(self.z2, self.W2)\n",
        "\n",
        "    #final activation function\n",
        "    o = self.activationSigmoid(self.z3)\n",
        "    return o\n",
        "\n"
      ],
      "metadata": {
        "id": "cXGpQ5b3QZhk"
      },
      "execution_count": null,
      "outputs": []
    },
    {
      "cell_type": "markdown",
      "source": [
        "Backward propagation"
      ],
      "metadata": {
        "id": "IdbGKsFzSmSn"
      }
    },
    {
      "cell_type": "code",
      "source": [
        "def backwardPropagate(self, X,y,o):\n",
        "  #calculate error in output\n",
        "  self.o_error = y - o\n",
        "\n",
        "  #apply derivative of activation sigmoid to error\n",
        "  self.o_delta = self.o_error*self.activationSigmoidPrime(o)\n",
        "\n",
        "  #z2 error is how much our hidden layer contributed to error in output\n",
        "  self.z2_error = self.o_delta.dot(self.W2.T)\n",
        "\n",
        "  #applying derivative of activationSigmoid to z2 error\n",
        "  self.z2_delta = self.z2_error*self.activationSigmoidPrime(self.z2)\n",
        "\n",
        "  #adjusting first set(inputLayer > hiddenLayer) weights\n",
        "  self.W1 += X.T.dot(self.z2_delta)\n",
        "\n",
        "  #adjusting second set (hiddenLayer > outputLayer) weights\n",
        "  self.W2 += self.z2.T.dot(self.o_delta)"
      ],
      "metadata": {
        "id": "UtNNdtqySp_i"
      },
      "execution_count": null,
      "outputs": []
    },
    {
      "cell_type": "markdown",
      "source": [
        "Call the functions to train network"
      ],
      "metadata": {
        "id": "RdgleMJPVZFv"
      }
    },
    {
      "cell_type": "code",
      "source": [
        "def trainNetwork(self, X, y):\n",
        "    #feed forward the loop\n",
        "    o = self.feedForward(X)\n",
        "    #back propagate the values\n",
        "    self.backwardPropagate(X, y, o)"
      ],
      "metadata": {
        "id": "Nx_bbd4BVfU6"
      },
      "execution_count": null,
      "outputs": []
    },
    {
      "cell_type": "code",
      "source": [
        "def activationSigmoid(self, s):\n",
        "    # activation function\n",
        "    # simple activationSigmoid curve as in the book\n",
        "    return 1/(1+np.exp(-s))\n",
        "def activationSigmoidPrime(self, s):\n",
        "    # First derivative of activationSigmoid\n",
        "    # calculus time!\n",
        "    return s * (1 - s)"
      ],
      "metadata": {
        "id": "G2CXNnvaZLa5"
      },
      "execution_count": null,
      "outputs": []
    },
    {
      "cell_type": "markdown",
      "source": [
        "Saving epoch values of the loss function to excel file"
      ],
      "metadata": {
        "id": "J3MtlDFnZYyT"
      }
    },
    {
      "cell_type": "code",
      "source": [
        "def saveSumSquaredLossList(self,i,error):\n",
        "    lossFile.write(str(i)+\",\"+str(error.tolist())+'\\n')\n",
        "def saveWeights(self):\n",
        "    # save this in order to reproduce our cool network\n",
        "    np.savetxt(\"weightsLayer1.txt\", self.W1, fmt=\"%s\")\n",
        "    np.savetxt(\"weightsLayer2.txt\", self.W2, fmt=\"%s\")"
      ],
      "metadata": {
        "id": "7BZQO6k2Zhpv"
      },
      "execution_count": null,
      "outputs": []
    },
    {
      "cell_type": "markdown",
      "source": [
        "Run neural network to predict outputs based on weights being trained currently"
      ],
      "metadata": {
        "id": "602xr7y_Zo7Z"
      }
    },
    {
      "cell_type": "code",
      "source": [
        "def predictOutput(self):\n",
        "    print (\"Predicted XOR output data based on trained weights: \")\n",
        "    print (\"Expected (X1-X3): \\n\" + str(xPredicted))\n",
        "    print (\"Output (Y1): \\n\" + str(self.feedForward(xPredicted)))\n",
        "myNeuralNetwork = Neural_Network()\n",
        "trainingEpochs = 1000\n",
        "\n",
        "for i in range(trainingEpochs):\n",
        "  print (\"Epoch # \" + str(i) + \"\\n\")\n",
        "  print (\"Network Input : \\n\" + str(X))\n",
        "  print (\"Expected Output of XOR Gate Neural Network: \\n\" + str(y))\n",
        "  print (\"Actual Output from XOR Gate Neural Network: \\n\" + str(myNeuralNetwork.feedForward(X)))\n",
        "  # mean sum squared loss\n",
        "  Loss = np.mean(np.square(y - myNeuralNetwork.feedForward(X)))\n",
        "  myNeuralNetwork.saveSumSquaredLossList(i,Loss)\n",
        "  print (\"Sum Squared Loss: \\n\" + str(Loss))\n",
        "  print (\"\\n\")\n",
        "  myNeuralNetwork.trainNetwork(X, y)\n"
      ],
      "metadata": {
        "id": "AvWGhlpXZnQ6"
      },
      "execution_count": null,
      "outputs": []
    },
    {
      "cell_type": "code",
      "source": [
        "myNeuralNetwork.saveWeights()\n",
        "myNeuralNetwork.predictOutput()"
      ],
      "metadata": {
        "id": "SK_KFtNqabJt"
      },
      "execution_count": null,
      "outputs": []
    }
  ]
}